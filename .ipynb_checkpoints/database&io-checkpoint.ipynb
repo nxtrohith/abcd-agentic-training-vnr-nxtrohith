{
 "cells": [
  {
   "cell_type": "code",
   "execution_count": 1,
   "id": "0ca6f563-ae16-441b-ae58-d46b426ce7ab",
   "metadata": {},
   "outputs": [],
   "source": [
    "import sqlite3 as sql"
   ]
  },
  {
   "cell_type": "code",
   "execution_count": 2,
   "id": "b6c54be6-f106-4898-b1e7-c91a4881c819",
   "metadata": {},
   "outputs": [],
   "source": [
    "database = sql.connect(\"sample.db\")"
   ]
  },
  {
   "cell_type": "code",
   "execution_count": 3,
   "id": "ea7c38d8-80ca-4795-a9a8-d645efc07734",
   "metadata": {},
   "outputs": [
    {
     "data": {
      "text/plain": [
       "<sqlite3.Connection at 0x207fc764c70>"
      ]
     },
     "execution_count": 3,
     "metadata": {},
     "output_type": "execute_result"
    }
   ],
   "source": [
    "database"
   ]
  },
  {
   "cell_type": "code",
   "execution_count": 4,
   "id": "ac8c847e-142d-40d8-8792-37aa5cd4467b",
   "metadata": {},
   "outputs": [
    {
     "data": {
      "text/plain": [
       "<sqlite3.Cursor at 0x207fc8d3ac0>"
      ]
     },
     "execution_count": 4,
     "metadata": {},
     "output_type": "execute_result"
    }
   ],
   "source": [
    "database.execute(\"Create table students(name varchar(10));\")"
   ]
  },
  {
   "cell_type": "code",
   "execution_count": 8,
   "id": "86bccc11-1e35-4a4b-a63b-b59d89d22c1e",
   "metadata": {},
   "outputs": [
    {
     "data": {
      "text/plain": [
       "<sqlite3.Cursor at 0x207fd2c2840>"
      ]
     },
     "execution_count": 8,
     "metadata": {},
     "output_type": "execute_result"
    }
   ],
   "source": [
    "database.execute(\"insert into students values('Rohith')\")"
   ]
  },
  {
   "cell_type": "code",
   "execution_count": 9,
   "id": "8a7882a2-6003-4ac4-ae7f-d7ff8f92100f",
   "metadata": {},
   "outputs": [
    {
     "data": {
      "text/plain": [
       "<sqlite3.Cursor at 0x207fdbbf240>"
      ]
     },
     "execution_count": 9,
     "metadata": {},
     "output_type": "execute_result"
    }
   ],
   "source": [
    "database.execute(\"select * from students\")"
   ]
  },
  {
   "cell_type": "code",
   "execution_count": 10,
   "id": "bb70f851-a334-445f-a2fe-ab1a249571b4",
   "metadata": {},
   "outputs": [
    {
     "data": {
      "text/plain": [
       "<sqlite3.Cursor at 0x207fdbbcdc0>"
      ]
     },
     "execution_count": 10,
     "metadata": {},
     "output_type": "execute_result"
    }
   ],
   "source": [
    "students = database.execute(\"select * from students\")\n",
    "students"
   ]
  },
  {
   "cell_type": "code",
   "execution_count": 11,
   "id": "a65cc105-9c9c-4da3-aa29-2fa21145b1d7",
   "metadata": {},
   "outputs": [
    {
     "name": "stdout",
     "output_type": "stream",
     "text": [
      "('Rohith',)\n"
     ]
    }
   ],
   "source": [
    "for student in students:\n",
    "    print(student)"
   ]
  },
  {
   "cell_type": "code",
   "execution_count": 13,
   "id": "6f29506c-6f76-4e25-8e54-edfcb18222bd",
   "metadata": {},
   "outputs": [
    {
     "name": "stdout",
     "output_type": "stream",
     "text": [
      "Writing sample.txt\n"
     ]
    }
   ],
   "source": [
    "%%writefile sample.txt\n",
    "this is the first line of the file\n",
    "second\n",
    "third"
   ]
  },
  {
   "cell_type": "code",
   "execution_count": 41,
   "id": "3ffe573f-24b8-4b66-b671-55c9bbe59102",
   "metadata": {},
   "outputs": [],
   "source": [
    "file = open('sample.txt', 'r')"
   ]
  },
  {
   "cell_type": "code",
   "execution_count": 30,
   "id": "6aa19b24-d51c-4e2c-9224-2cf7d5e9552b",
   "metadata": {},
   "outputs": [
    {
     "data": {
      "text/plain": [
       "0"
      ]
     },
     "execution_count": 30,
     "metadata": {},
     "output_type": "execute_result"
    }
   ],
   "source": [
    "file.seek(0)"
   ]
  },
  {
   "cell_type": "code",
   "execution_count": 31,
   "id": "a295d128-7400-409b-bbd7-62f8326c5e96",
   "metadata": {},
   "outputs": [
    {
     "data": {
      "text/plain": [
       "['this is the first line of the file\\n', 'second\\n', 'third\\n']"
      ]
     },
     "execution_count": 31,
     "metadata": {},
     "output_type": "execute_result"
    }
   ],
   "source": [
    "file.readlines()"
   ]
  },
  {
   "cell_type": "code",
   "execution_count": 29,
   "id": "8ead7de4-6b59-431a-9ea8-b3ba403f7998",
   "metadata": {},
   "outputs": [
    {
     "data": {
      "text/plain": [
       "'this is the first line of the file\\nsecond\\nthird\\n'"
      ]
     },
     "execution_count": 29,
     "metadata": {},
     "output_type": "execute_result"
    }
   ],
   "source": [
    "file.read()"
   ]
  },
  {
   "cell_type": "code",
   "execution_count": 37,
   "id": "96f19f7d-fbbe-40fb-af75-ac06b9366b27",
   "metadata": {},
   "outputs": [],
   "source": [
    "file = open('sample.txt', 'w')"
   ]
  },
  {
   "cell_type": "code",
   "execution_count": 48,
   "id": "c8f28ea5-07fa-421e-a23d-7944d96821af",
   "metadata": {},
   "outputs": [
    {
     "ename": "UnsupportedOperation",
     "evalue": "not writable",
     "output_type": "error",
     "traceback": [
      "\u001b[1;31m---------------------------------------------------------------------------\u001b[0m",
      "\u001b[1;31mUnsupportedOperation\u001b[0m                      Traceback (most recent call last)",
      "Cell \u001b[1;32mIn[48], line 1\u001b[0m\n\u001b[1;32m----> 1\u001b[0m file\u001b[38;5;241m.\u001b[39mwrite(\u001b[38;5;124m\"\u001b[39m\u001b[38;5;124mI am Rohith\u001b[39m\u001b[38;5;124m\"\u001b[39m)\n",
      "\u001b[1;31mUnsupportedOperation\u001b[0m: not writable"
     ]
    }
   ],
   "source": [
    "file.write(\"I am Rohith\")"
   ]
  },
  {
   "cell_type": "code",
   "execution_count": 46,
   "id": "b97be61b-a5ac-490a-94fa-dd59d29b9437",
   "metadata": {},
   "outputs": [
    {
     "data": {
      "text/plain": [
       "0"
      ]
     },
     "execution_count": 46,
     "metadata": {},
     "output_type": "execute_result"
    }
   ],
   "source": [
    "file.seek(0)\n"
   ]
  },
  {
   "cell_type": "code",
   "execution_count": 47,
   "id": "1044c78d-df5f-45ed-9ff4-fff0386f7742",
   "metadata": {},
   "outputs": [
    {
     "data": {
      "text/plain": [
       "''"
      ]
     },
     "execution_count": 47,
     "metadata": {},
     "output_type": "execute_result"
    }
   ],
   "source": [
    "file.read()"
   ]
  }
 ],
 "metadata": {
  "kernelspec": {
   "display_name": "Python [conda env:base] *",
   "language": "python",
   "name": "conda-base-py"
  },
  "language_info": {
   "codemirror_mode": {
    "name": "ipython",
    "version": 3
   },
   "file_extension": ".py",
   "mimetype": "text/x-python",
   "name": "python",
   "nbconvert_exporter": "python",
   "pygments_lexer": "ipython3",
   "version": "3.13.5"
  }
 },
 "nbformat": 4,
 "nbformat_minor": 5
}
